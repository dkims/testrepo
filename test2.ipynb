{
  "nbformat": 4,
  "nbformat_minor": 0,
  "metadata": {
    "colab": {
      "name": "test2.ipynb",
      "provenance": []
    }
  },
  "cells": [
    {
      "cell_type": "markdown",
      "source": [
        "#Chapter 1: Getting started"
      ],
      "metadata": {
        "id": "8i120r8mHKYJ"
      }
    },
    {
      "cell_type": "markdown",
      "source": [
        "-- *A Python Course for the Humanities by Folgert Karsdorp and Maarten van Gompel*"
      ],
      "metadata": {
        "id": "xTM5w0wwHKYM"
      }
    },
    {
      "cell_type": "markdown",
      "source": [
        "---"
      ],
      "metadata": {
        "id": "1uVT_YXRHKYM"
      }
    },
    {
      "cell_type": "code",
      "source": [
        "print(\"Ready, set, GO!\")"
      ],
      "outputs": [],
      "metadata": {
        "id": "LYkrTOm1HKYM"
      },
      "execution_count": null
    },
    {
      "cell_type": "markdown",
      "source": [
        "Everyone can learn how to program and the best way to learn is by doing. In this tutorial you will be asked to write a lot of code. Click any block of code in this tutorial, such as the one above, and press ctrl+enter to run it. Let's begin right away and write our first little program!  "
      ],
      "metadata": {
        "id": "Z5VT0VMZHKYN"
      }
    },
    {
      "cell_type": "markdown",
      "source": [
        "----------"
      ],
      "metadata": {
        "id": "xF81OM9fHKYO"
      }
    }
  ]
}